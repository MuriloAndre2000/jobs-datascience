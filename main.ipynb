{
 "cells": [
  {
   "cell_type": "markdown",
   "metadata": {},
   "source": [
    "<h1>Processo seletivo para Estágio em Data Science</h1>"
   ]
  },
  {
   "cell_type": "markdown",
   "metadata": {},
   "source": [
    "<h3>Vamos começar importar as bibliotecas que precisaremos e o dataframe </h3>"
   ]
  },
  {
   "cell_type": "code",
   "execution_count": 1,
   "metadata": {},
   "outputs": [],
   "source": [
    "import pandas as pd\n",
    "import numpy as np\n",
    "import matplotlib.pyplot as plt\n",
    "from tqdm import tqdm"
   ]
  },
  {
   "cell_type": "markdown",
   "metadata": {},
   "source": [
    "<h3>Entendendo os dados</h3>"
   ]
  },
  {
   "cell_type": "code",
   "execution_count": 2,
   "metadata": {},
   "outputs": [],
   "source": [
    "df = pd.read_csv('Safra_2018-2019.csv')\n",
    "df = df.drop(['Unnamed: 0'], axis = 1)"
   ]
  },
  {
   "cell_type": "code",
   "execution_count": 3,
   "metadata": {},
   "outputs": [
    {
     "data": {
      "text/html": [
       "<div>\n",
       "<style scoped>\n",
       "    .dataframe tbody tr th:only-of-type {\n",
       "        vertical-align: middle;\n",
       "    }\n",
       "\n",
       "    .dataframe tbody tr th {\n",
       "        vertical-align: top;\n",
       "    }\n",
       "\n",
       "    .dataframe thead th {\n",
       "        text-align: right;\n",
       "    }\n",
       "</style>\n",
       "<table border=\"1\" class=\"dataframe\">\n",
       "  <thead>\n",
       "    <tr style=\"text-align: right;\">\n",
       "      <th></th>\n",
       "      <th>Estimativa_de_Insetos</th>\n",
       "      <th>Tipo_de_Cultivo</th>\n",
       "      <th>Tipo_de_Solo</th>\n",
       "      <th>Categoria_Pesticida</th>\n",
       "      <th>Doses_Semana</th>\n",
       "      <th>Semanas_Utilizando</th>\n",
       "      <th>Semanas_Sem_Uso</th>\n",
       "      <th>Temporada</th>\n",
       "      <th>dano_na_plantacao</th>\n",
       "    </tr>\n",
       "  </thead>\n",
       "  <tbody>\n",
       "    <tr>\n",
       "      <th>count</th>\n",
       "      <td>80000.000000</td>\n",
       "      <td>80000.000000</td>\n",
       "      <td>80000.000000</td>\n",
       "      <td>80000.000000</td>\n",
       "      <td>80000.000000</td>\n",
       "      <td>71945.000000</td>\n",
       "      <td>80000.000000</td>\n",
       "      <td>80000.000000</td>\n",
       "      <td>80000.000000</td>\n",
       "    </tr>\n",
       "    <tr>\n",
       "      <th>mean</th>\n",
       "      <td>1400.020875</td>\n",
       "      <td>0.283338</td>\n",
       "      <td>0.455550</td>\n",
       "      <td>2.267587</td>\n",
       "      <td>25.846750</td>\n",
       "      <td>28.664480</td>\n",
       "      <td>9.549088</td>\n",
       "      <td>1.897575</td>\n",
       "      <td>0.192312</td>\n",
       "    </tr>\n",
       "    <tr>\n",
       "      <th>std</th>\n",
       "      <td>849.792471</td>\n",
       "      <td>0.450622</td>\n",
       "      <td>0.498023</td>\n",
       "      <td>0.463748</td>\n",
       "      <td>15.557246</td>\n",
       "      <td>12.424751</td>\n",
       "      <td>9.905547</td>\n",
       "      <td>0.702079</td>\n",
       "      <td>0.455912</td>\n",
       "    </tr>\n",
       "    <tr>\n",
       "      <th>min</th>\n",
       "      <td>150.000000</td>\n",
       "      <td>0.000000</td>\n",
       "      <td>0.000000</td>\n",
       "      <td>1.000000</td>\n",
       "      <td>0.000000</td>\n",
       "      <td>0.000000</td>\n",
       "      <td>0.000000</td>\n",
       "      <td>1.000000</td>\n",
       "      <td>0.000000</td>\n",
       "    </tr>\n",
       "    <tr>\n",
       "      <th>25%</th>\n",
       "      <td>731.000000</td>\n",
       "      <td>0.000000</td>\n",
       "      <td>0.000000</td>\n",
       "      <td>2.000000</td>\n",
       "      <td>15.000000</td>\n",
       "      <td>20.000000</td>\n",
       "      <td>0.000000</td>\n",
       "      <td>1.000000</td>\n",
       "      <td>0.000000</td>\n",
       "    </tr>\n",
       "    <tr>\n",
       "      <th>50%</th>\n",
       "      <td>1212.000000</td>\n",
       "      <td>0.000000</td>\n",
       "      <td>0.000000</td>\n",
       "      <td>2.000000</td>\n",
       "      <td>20.000000</td>\n",
       "      <td>28.000000</td>\n",
       "      <td>7.000000</td>\n",
       "      <td>2.000000</td>\n",
       "      <td>0.000000</td>\n",
       "    </tr>\n",
       "    <tr>\n",
       "      <th>75%</th>\n",
       "      <td>1898.000000</td>\n",
       "      <td>1.000000</td>\n",
       "      <td>1.000000</td>\n",
       "      <td>3.000000</td>\n",
       "      <td>40.000000</td>\n",
       "      <td>37.000000</td>\n",
       "      <td>16.000000</td>\n",
       "      <td>2.000000</td>\n",
       "      <td>0.000000</td>\n",
       "    </tr>\n",
       "    <tr>\n",
       "      <th>max</th>\n",
       "      <td>4097.000000</td>\n",
       "      <td>1.000000</td>\n",
       "      <td>1.000000</td>\n",
       "      <td>3.000000</td>\n",
       "      <td>95.000000</td>\n",
       "      <td>67.000000</td>\n",
       "      <td>50.000000</td>\n",
       "      <td>3.000000</td>\n",
       "      <td>2.000000</td>\n",
       "    </tr>\n",
       "  </tbody>\n",
       "</table>\n",
       "</div>"
      ],
      "text/plain": [
       "       Estimativa_de_Insetos  Tipo_de_Cultivo  Tipo_de_Solo  \\\n",
       "count           80000.000000     80000.000000  80000.000000   \n",
       "mean             1400.020875         0.283338      0.455550   \n",
       "std               849.792471         0.450622      0.498023   \n",
       "min               150.000000         0.000000      0.000000   \n",
       "25%               731.000000         0.000000      0.000000   \n",
       "50%              1212.000000         0.000000      0.000000   \n",
       "75%              1898.000000         1.000000      1.000000   \n",
       "max              4097.000000         1.000000      1.000000   \n",
       "\n",
       "       Categoria_Pesticida  Doses_Semana  Semanas_Utilizando  Semanas_Sem_Uso  \\\n",
       "count         80000.000000  80000.000000        71945.000000     80000.000000   \n",
       "mean              2.267587     25.846750           28.664480         9.549088   \n",
       "std               0.463748     15.557246           12.424751         9.905547   \n",
       "min               1.000000      0.000000            0.000000         0.000000   \n",
       "25%               2.000000     15.000000           20.000000         0.000000   \n",
       "50%               2.000000     20.000000           28.000000         7.000000   \n",
       "75%               3.000000     40.000000           37.000000        16.000000   \n",
       "max               3.000000     95.000000           67.000000        50.000000   \n",
       "\n",
       "          Temporada  dano_na_plantacao  \n",
       "count  80000.000000       80000.000000  \n",
       "mean       1.897575           0.192312  \n",
       "std        0.702079           0.455912  \n",
       "min        1.000000           0.000000  \n",
       "25%        1.000000           0.000000  \n",
       "50%        2.000000           0.000000  \n",
       "75%        2.000000           0.000000  \n",
       "max        3.000000           2.000000  "
      ]
     },
     "execution_count": 3,
     "metadata": {},
     "output_type": "execute_result"
    }
   ],
   "source": [
    "df.describe()"
   ]
  },
  {
   "cell_type": "code",
   "execution_count": 4,
   "metadata": {},
   "outputs": [
    {
     "name": "stdout",
     "output_type": "stream",
     "text": [
      "<class 'pandas.core.frame.DataFrame'>\n",
      "RangeIndex: 80000 entries, 0 to 79999\n",
      "Data columns (total 10 columns):\n",
      "Identificador_Agricultor    80000 non-null object\n",
      "Estimativa_de_Insetos       80000 non-null int64\n",
      "Tipo_de_Cultivo             80000 non-null int64\n",
      "Tipo_de_Solo                80000 non-null int64\n",
      "Categoria_Pesticida         80000 non-null int64\n",
      "Doses_Semana                80000 non-null int64\n",
      "Semanas_Utilizando          71945 non-null float64\n",
      "Semanas_Sem_Uso             80000 non-null int64\n",
      "Temporada                   80000 non-null int64\n",
      "dano_na_plantacao           80000 non-null int64\n",
      "dtypes: float64(1), int64(8), object(1)\n",
      "memory usage: 6.1+ MB\n",
      "None\n"
     ]
    }
   ],
   "source": [
    "print(df.info())"
   ]
  },
  {
   "cell_type": "markdown",
   "metadata": {},
   "source": [
    "<h2>Preprocessamento</h2>"
   ]
  },
  {
   "cell_type": "markdown",
   "metadata": {},
   "source": [
    "<h5>Uma olhada superficial temos que há campos em Semanas_Utilizando que temos valores Nulos, mais de 10% do nosso dataset, um numero muito grande para simplesmente jogar fora</h5>"
   ]
  },
  {
   "cell_type": "code",
   "execution_count": 5,
   "metadata": {},
   "outputs": [
    {
     "name": "stdout",
     "output_type": "stream",
     "text": [
      "A porcentagem de valores faltando em Semanas_Utilizando 0.1006875\n"
     ]
    }
   ],
   "source": [
    "dfnan = df.isna()\n",
    "p = len(dfnan.loc[dfnan['Semanas_Utilizando'] == True])/len(dfnan)\n",
    "print(\"A porcentagem de valores faltando em Semanas_Utilizando\", p)"
   ]
  },
  {
   "cell_type": "code",
   "execution_count": 6,
   "metadata": {},
   "outputs": [],
   "source": [
    "def fill_nan_values(df):\n",
    "    return df.fillna(df['Semanas_Utilizando'].mean())"
   ]
  },
  {
   "cell_type": "markdown",
   "metadata": {},
   "source": [
    "Com isso, preenchemos o valor com a meida dos valores da coluna"
   ]
  },
  {
   "cell_type": "code",
   "execution_count": 7,
   "metadata": {},
   "outputs": [],
   "source": [
    "df = fill_nan_values(df)"
   ]
  },
  {
   "cell_type": "code",
   "execution_count": 8,
   "metadata": {},
   "outputs": [],
   "source": [
    "def dummies(df):\n",
    "    df['Categoria_Pesticida'] = df['Categoria_Pesticida'].replace(1, 'Nunca Usou')\n",
    "    df['Categoria_Pesticida'] = df['Categoria_Pesticida'].replace(2, 'Já Usou')\n",
    "    df['Categoria_Pesticida'] = df['Categoria_Pesticida'].replace(3, 'Esta usando')\n",
    "    df = pd.get_dummies(df, columns=['Categoria_Pesticida'])\n",
    "    df = pd.get_dummies(df, columns=['Temporada'])\n",
    "    return df"
   ]
  },
  {
   "cell_type": "code",
   "execution_count": 9,
   "metadata": {},
   "outputs": [],
   "source": [
    "df = dummies(df)"
   ]
  },
  {
   "cell_type": "markdown",
   "metadata": {},
   "source": [
    "<h4>Com isso atribuimos se o agricultor nunca usou, ja usou ou esta usando e transformamos em novas labels, ja que 1,2 ou 3 não é algo linear: Assim como a temporada</h4>"
   ]
  },
  {
   "cell_type": "code",
   "execution_count": 10,
   "metadata": {},
   "outputs": [],
   "source": [
    "def feature_engineering(df):\n",
    "    df['Semanas_Utilizando'] = df['Semanas_Utilizando'].astype(int)# Há um valor que não representa uma semana, ja que é um float\n",
    "    df['Quant_total_de_Dose'] = (df['Semanas_Utilizando']*df['Doses_Semana']) #Assim temos noçao do quanto de dose o agricultor usou\n",
    "    df['Total_de_Semanas'] = df['Semanas_Utilizando'] + df['Semanas_Sem_Uso']\n",
    "    df['Razao_Uso'] = (df['Semanas_Utilizando']/df['Total_de_Semanas']).fillna(0) #Razao entre uso do pesticida ou não em semana, se foi 1:1 e etc\n",
    "    s = np.zeros(len(df))\n",
    "    for index in df.index:\n",
    "        if df['Quant_total_de_Dose'][index] != 0:\n",
    "            s[index] = df['Estimativa_de_Insetos'][index]/df['Quant_total_de_Dose'][index]\n",
    "        else:\n",
    "            s[index] = -1\n",
    "    df['Razao_de_inseto_por_dose'] = s #Veremos se a quantidade de dose total é correspendente à quantidade de insetos estimada\n",
    "    return df"
   ]
  },
  {
   "cell_type": "code",
   "execution_count": 11,
   "metadata": {},
   "outputs": [],
   "source": [
    "df = feature_engineering(df)"
   ]
  },
  {
   "cell_type": "code",
   "execution_count": 12,
   "metadata": {},
   "outputs": [
    {
     "data": {
      "text/html": [
       "<div>\n",
       "<style scoped>\n",
       "    .dataframe tbody tr th:only-of-type {\n",
       "        vertical-align: middle;\n",
       "    }\n",
       "\n",
       "    .dataframe tbody tr th {\n",
       "        vertical-align: top;\n",
       "    }\n",
       "\n",
       "    .dataframe thead th {\n",
       "        text-align: right;\n",
       "    }\n",
       "</style>\n",
       "<table border=\"1\" class=\"dataframe\">\n",
       "  <thead>\n",
       "    <tr style=\"text-align: right;\">\n",
       "      <th></th>\n",
       "      <th>Estimativa_de_Insetos</th>\n",
       "      <th>Tipo_de_Cultivo</th>\n",
       "      <th>Tipo_de_Solo</th>\n",
       "      <th>Doses_Semana</th>\n",
       "      <th>Semanas_Utilizando</th>\n",
       "      <th>Semanas_Sem_Uso</th>\n",
       "      <th>dano_na_plantacao</th>\n",
       "      <th>Categoria_Pesticida_Esta usando</th>\n",
       "      <th>Categoria_Pesticida_Já Usou</th>\n",
       "      <th>Categoria_Pesticida_Nunca Usou</th>\n",
       "      <th>Temporada_1</th>\n",
       "      <th>Temporada_2</th>\n",
       "      <th>Temporada_3</th>\n",
       "      <th>Quant_total_de_Dose</th>\n",
       "      <th>Total_de_Semanas</th>\n",
       "      <th>Razao_Uso</th>\n",
       "      <th>Razao_de_inseto_por_dose</th>\n",
       "    </tr>\n",
       "  </thead>\n",
       "  <tbody>\n",
       "    <tr>\n",
       "      <th>count</th>\n",
       "      <td>80000.000000</td>\n",
       "      <td>80000.000000</td>\n",
       "      <td>80000.000000</td>\n",
       "      <td>80000.000000</td>\n",
       "      <td>80000.000000</td>\n",
       "      <td>80000.000000</td>\n",
       "      <td>80000.000000</td>\n",
       "      <td>80000.000000</td>\n",
       "      <td>80000.000000</td>\n",
       "      <td>80000.000000</td>\n",
       "      <td>80000.000000</td>\n",
       "      <td>80000.000000</td>\n",
       "      <td>80000.000000</td>\n",
       "      <td>80000.000000</td>\n",
       "      <td>80000.000000</td>\n",
       "      <td>80000.000000</td>\n",
       "      <td>80000.000000</td>\n",
       "    </tr>\n",
       "    <tr>\n",
       "      <th>mean</th>\n",
       "      <td>1400.020875</td>\n",
       "      <td>0.283338</td>\n",
       "      <td>0.455550</td>\n",
       "      <td>25.846750</td>\n",
       "      <td>28.597575</td>\n",
       "      <td>9.549088</td>\n",
       "      <td>0.192312</td>\n",
       "      <td>0.277125</td>\n",
       "      <td>0.713337</td>\n",
       "      <td>0.009538</td>\n",
       "      <td>0.302912</td>\n",
       "      <td>0.496600</td>\n",
       "      <td>0.200488</td>\n",
       "      <td>760.685313</td>\n",
       "      <td>38.146662</td>\n",
       "      <td>0.757036</td>\n",
       "      <td>3.392703</td>\n",
       "    </tr>\n",
       "    <tr>\n",
       "      <th>std</th>\n",
       "      <td>849.792471</td>\n",
       "      <td>0.450622</td>\n",
       "      <td>0.498023</td>\n",
       "      <td>15.557246</td>\n",
       "      <td>11.784339</td>\n",
       "      <td>9.905547</td>\n",
       "      <td>0.455912</td>\n",
       "      <td>0.447582</td>\n",
       "      <td>0.452205</td>\n",
       "      <td>0.097194</td>\n",
       "      <td>0.459521</td>\n",
       "      <td>0.499992</td>\n",
       "      <td>0.400368</td>\n",
       "      <td>573.358734</td>\n",
       "      <td>11.741582</td>\n",
       "      <td>0.238095</td>\n",
       "      <td>5.376879</td>\n",
       "    </tr>\n",
       "    <tr>\n",
       "      <th>min</th>\n",
       "      <td>150.000000</td>\n",
       "      <td>0.000000</td>\n",
       "      <td>0.000000</td>\n",
       "      <td>0.000000</td>\n",
       "      <td>0.000000</td>\n",
       "      <td>0.000000</td>\n",
       "      <td>0.000000</td>\n",
       "      <td>0.000000</td>\n",
       "      <td>0.000000</td>\n",
       "      <td>0.000000</td>\n",
       "      <td>0.000000</td>\n",
       "      <td>0.000000</td>\n",
       "      <td>0.000000</td>\n",
       "      <td>0.000000</td>\n",
       "      <td>0.000000</td>\n",
       "      <td>0.000000</td>\n",
       "      <td>-1.000000</td>\n",
       "    </tr>\n",
       "    <tr>\n",
       "      <th>25%</th>\n",
       "      <td>731.000000</td>\n",
       "      <td>0.000000</td>\n",
       "      <td>0.000000</td>\n",
       "      <td>15.000000</td>\n",
       "      <td>20.000000</td>\n",
       "      <td>0.000000</td>\n",
       "      <td>0.000000</td>\n",
       "      <td>0.000000</td>\n",
       "      <td>0.000000</td>\n",
       "      <td>0.000000</td>\n",
       "      <td>0.000000</td>\n",
       "      <td>0.000000</td>\n",
       "      <td>0.000000</td>\n",
       "      <td>330.000000</td>\n",
       "      <td>30.000000</td>\n",
       "      <td>0.581395</td>\n",
       "      <td>0.976190</td>\n",
       "    </tr>\n",
       "    <tr>\n",
       "      <th>50%</th>\n",
       "      <td>1212.000000</td>\n",
       "      <td>0.000000</td>\n",
       "      <td>0.000000</td>\n",
       "      <td>20.000000</td>\n",
       "      <td>28.000000</td>\n",
       "      <td>7.000000</td>\n",
       "      <td>0.000000</td>\n",
       "      <td>0.000000</td>\n",
       "      <td>1.000000</td>\n",
       "      <td>0.000000</td>\n",
       "      <td>0.000000</td>\n",
       "      <td>0.000000</td>\n",
       "      <td>0.000000</td>\n",
       "      <td>600.000000</td>\n",
       "      <td>39.000000</td>\n",
       "      <td>0.800000</td>\n",
       "      <td>1.886667</td>\n",
       "    </tr>\n",
       "    <tr>\n",
       "      <th>75%</th>\n",
       "      <td>1898.000000</td>\n",
       "      <td>1.000000</td>\n",
       "      <td>1.000000</td>\n",
       "      <td>40.000000</td>\n",
       "      <td>36.000000</td>\n",
       "      <td>16.000000</td>\n",
       "      <td>0.000000</td>\n",
       "      <td>1.000000</td>\n",
       "      <td>1.000000</td>\n",
       "      <td>0.000000</td>\n",
       "      <td>1.000000</td>\n",
       "      <td>1.000000</td>\n",
       "      <td>0.000000</td>\n",
       "      <td>1040.000000</td>\n",
       "      <td>47.000000</td>\n",
       "      <td>1.000000</td>\n",
       "      <td>3.773333</td>\n",
       "    </tr>\n",
       "    <tr>\n",
       "      <th>max</th>\n",
       "      <td>4097.000000</td>\n",
       "      <td>1.000000</td>\n",
       "      <td>1.000000</td>\n",
       "      <td>95.000000</td>\n",
       "      <td>67.000000</td>\n",
       "      <td>50.000000</td>\n",
       "      <td>2.000000</td>\n",
       "      <td>1.000000</td>\n",
       "      <td>1.000000</td>\n",
       "      <td>1.000000</td>\n",
       "      <td>1.000000</td>\n",
       "      <td>1.000000</td>\n",
       "      <td>1.000000</td>\n",
       "      <td>5510.000000</td>\n",
       "      <td>78.000000</td>\n",
       "      <td>1.000000</td>\n",
       "      <td>163.840000</td>\n",
       "    </tr>\n",
       "  </tbody>\n",
       "</table>\n",
       "</div>"
      ],
      "text/plain": [
       "       Estimativa_de_Insetos  Tipo_de_Cultivo  Tipo_de_Solo  Doses_Semana  \\\n",
       "count           80000.000000     80000.000000  80000.000000  80000.000000   \n",
       "mean             1400.020875         0.283338      0.455550     25.846750   \n",
       "std               849.792471         0.450622      0.498023     15.557246   \n",
       "min               150.000000         0.000000      0.000000      0.000000   \n",
       "25%               731.000000         0.000000      0.000000     15.000000   \n",
       "50%              1212.000000         0.000000      0.000000     20.000000   \n",
       "75%              1898.000000         1.000000      1.000000     40.000000   \n",
       "max              4097.000000         1.000000      1.000000     95.000000   \n",
       "\n",
       "       Semanas_Utilizando  Semanas_Sem_Uso  dano_na_plantacao  \\\n",
       "count        80000.000000     80000.000000       80000.000000   \n",
       "mean            28.597575         9.549088           0.192312   \n",
       "std             11.784339         9.905547           0.455912   \n",
       "min              0.000000         0.000000           0.000000   \n",
       "25%             20.000000         0.000000           0.000000   \n",
       "50%             28.000000         7.000000           0.000000   \n",
       "75%             36.000000        16.000000           0.000000   \n",
       "max             67.000000        50.000000           2.000000   \n",
       "\n",
       "       Categoria_Pesticida_Esta usando  Categoria_Pesticida_Já Usou  \\\n",
       "count                     80000.000000                 80000.000000   \n",
       "mean                          0.277125                     0.713337   \n",
       "std                           0.447582                     0.452205   \n",
       "min                           0.000000                     0.000000   \n",
       "25%                           0.000000                     0.000000   \n",
       "50%                           0.000000                     1.000000   \n",
       "75%                           1.000000                     1.000000   \n",
       "max                           1.000000                     1.000000   \n",
       "\n",
       "       Categoria_Pesticida_Nunca Usou   Temporada_1   Temporada_2  \\\n",
       "count                    80000.000000  80000.000000  80000.000000   \n",
       "mean                         0.009538      0.302912      0.496600   \n",
       "std                          0.097194      0.459521      0.499992   \n",
       "min                          0.000000      0.000000      0.000000   \n",
       "25%                          0.000000      0.000000      0.000000   \n",
       "50%                          0.000000      0.000000      0.000000   \n",
       "75%                          0.000000      1.000000      1.000000   \n",
       "max                          1.000000      1.000000      1.000000   \n",
       "\n",
       "        Temporada_3  Quant_total_de_Dose  Total_de_Semanas     Razao_Uso  \\\n",
       "count  80000.000000         80000.000000      80000.000000  80000.000000   \n",
       "mean       0.200488           760.685313         38.146662      0.757036   \n",
       "std        0.400368           573.358734         11.741582      0.238095   \n",
       "min        0.000000             0.000000          0.000000      0.000000   \n",
       "25%        0.000000           330.000000         30.000000      0.581395   \n",
       "50%        0.000000           600.000000         39.000000      0.800000   \n",
       "75%        0.000000          1040.000000         47.000000      1.000000   \n",
       "max        1.000000          5510.000000         78.000000      1.000000   \n",
       "\n",
       "       Razao_de_inseto_por_dose  \n",
       "count              80000.000000  \n",
       "mean                   3.392703  \n",
       "std                    5.376879  \n",
       "min                   -1.000000  \n",
       "25%                    0.976190  \n",
       "50%                    1.886667  \n",
       "75%                    3.773333  \n",
       "max                  163.840000  "
      ]
     },
     "execution_count": 12,
     "metadata": {},
     "output_type": "execute_result"
    }
   ],
   "source": [
    "df.describe()"
   ]
  },
  {
   "cell_type": "code",
   "execution_count": 13,
   "metadata": {},
   "outputs": [
    {
     "name": "stdout",
     "output_type": "stream",
     "text": [
      "<class 'pandas.core.frame.DataFrame'>\n",
      "RangeIndex: 80000 entries, 0 to 79999\n",
      "Data columns (total 18 columns):\n",
      "Identificador_Agricultor           80000 non-null object\n",
      "Estimativa_de_Insetos              80000 non-null int64\n",
      "Tipo_de_Cultivo                    80000 non-null int64\n",
      "Tipo_de_Solo                       80000 non-null int64\n",
      "Doses_Semana                       80000 non-null int64\n",
      "Semanas_Utilizando                 80000 non-null int32\n",
      "Semanas_Sem_Uso                    80000 non-null int64\n",
      "dano_na_plantacao                  80000 non-null int64\n",
      "Categoria_Pesticida_Esta usando    80000 non-null uint8\n",
      "Categoria_Pesticida_Já Usou        80000 non-null uint8\n",
      "Categoria_Pesticida_Nunca Usou     80000 non-null uint8\n",
      "Temporada_1                        80000 non-null uint8\n",
      "Temporada_2                        80000 non-null uint8\n",
      "Temporada_3                        80000 non-null uint8\n",
      "Quant_total_de_Dose                80000 non-null int64\n",
      "Total_de_Semanas                   80000 non-null int64\n",
      "Razao_Uso                          80000 non-null float64\n",
      "Razao_de_inseto_por_dose           80000 non-null float64\n",
      "dtypes: float64(2), int32(1), int64(8), object(1), uint8(6)\n",
      "memory usage: 7.5+ MB\n"
     ]
    }
   ],
   "source": [
    "df.info()"
   ]
  },
  {
   "cell_type": "markdown",
   "metadata": {},
   "source": [
    "<h1>Escolhendo o modelo</h1>"
   ]
  },
  {
   "cell_type": "markdown",
   "metadata": {},
   "source": [
    "<h2>Arrumando as nossas features, podemos começar a construir nosso modelo</h2>"
   ]
  },
  {
   "cell_type": "code",
   "execution_count": 14,
   "metadata": {},
   "outputs": [],
   "source": [
    "from sklearn.model_selection import cross_val_score\n",
    "y = df['dano_na_plantacao']\n",
    "X = df.drop(['dano_na_plantacao', 'Identificador_Agricultor'], axis =1)"
   ]
  },
  {
   "cell_type": "markdown",
   "metadata": {},
   "source": [
    "<h4>Para encontrarmos os melhores numeros de estimadores, vamos plotar possiveis candidatos a numero de estimador ou neighbor e encontrar o numero que melhor modela e depois comparar com uma rede neural</h4>"
   ]
  },
  {
   "cell_type": "code",
   "execution_count": 15,
   "metadata": {},
   "outputs": [],
   "source": [
    "from sklearn.ensemble import RandomForestClassifier\n",
    "from sklearn.ensemble import AdaBoostClassifier\n",
    "from sklearn.ensemble import BaggingClassifier\n",
    "from sklearn.neighbors import KNeighborsClassifier\n",
    "import tensorflow as tf\n",
    "from tensorflow import keras"
   ]
  },
  {
   "cell_type": "markdown",
   "metadata": {},
   "source": [
    "<h3>Random Forest Classifier</h3>"
   ]
  },
  {
   "cell_type": "code",
   "execution_count": 16,
   "metadata": {},
   "outputs": [
    {
     "name": "stderr",
     "output_type": "stream",
     "text": [
      "[Parallel(n_jobs=-1)]: Using backend LokyBackend with 12 concurrent workers.\n",
      "[Parallel(n_jobs=-1)]: Done   5 out of   5 | elapsed:    2.7s finished\n",
      "[Parallel(n_jobs=-1)]: Using backend LokyBackend with 12 concurrent workers.\n",
      "[Parallel(n_jobs=-1)]: Done   5 out of   5 | elapsed:    3.1s finished\n",
      "[Parallel(n_jobs=-1)]: Using backend LokyBackend with 12 concurrent workers.\n",
      "[Parallel(n_jobs=-1)]: Done   5 out of   5 | elapsed:    3.5s finished\n",
      "[Parallel(n_jobs=-1)]: Using backend LokyBackend with 12 concurrent workers.\n",
      "[Parallel(n_jobs=-1)]: Done   5 out of   5 | elapsed:    3.9s finished\n",
      "[Parallel(n_jobs=-1)]: Using backend LokyBackend with 12 concurrent workers.\n",
      "[Parallel(n_jobs=-1)]: Done   5 out of   5 | elapsed:    4.9s finished\n",
      "[Parallel(n_jobs=-1)]: Using backend LokyBackend with 12 concurrent workers.\n",
      "[Parallel(n_jobs=-1)]: Done   5 out of   5 | elapsed:    6.7s finished\n",
      "[Parallel(n_jobs=-1)]: Using backend LokyBackend with 12 concurrent workers.\n",
      "[Parallel(n_jobs=-1)]: Done   5 out of   5 | elapsed:   11.2s finished\n",
      "[Parallel(n_jobs=-1)]: Using backend LokyBackend with 12 concurrent workers.\n",
      "[Parallel(n_jobs=-1)]: Done   5 out of   5 | elapsed:   19.8s finished\n",
      "[Parallel(n_jobs=-1)]: Using backend LokyBackend with 12 concurrent workers.\n",
      "[Parallel(n_jobs=-1)]: Done   5 out of   5 | elapsed:   28.6s finished\n",
      "[Parallel(n_jobs=-1)]: Using backend LokyBackend with 12 concurrent workers.\n",
      "[Parallel(n_jobs=-1)]: Done   5 out of   5 | elapsed:   37.6s finished\n",
      "[Parallel(n_jobs=-1)]: Using backend LokyBackend with 12 concurrent workers.\n",
      "[Parallel(n_jobs=-1)]: Done   5 out of   5 | elapsed:   47.5s finished\n",
      "[Parallel(n_jobs=-1)]: Using backend LokyBackend with 12 concurrent workers.\n",
      "[Parallel(n_jobs=-1)]: Done   5 out of   5 | elapsed:  1.1min finished\n"
     ]
    }
   ],
   "source": [
    "n_estimators = [5,10,15,20,30,50,100,200,300,400,500,750]\n",
    "mean_score = []\n",
    "for estim in n_estimators:\n",
    "    clf = RandomForestClassifier(n_estimators=estim)\n",
    "    scores = cross_val_score(clf, X, y, cv=5, n_jobs = -1, verbose = 1)\n",
    "    mean_score.append(scores.mean())"
   ]
  },
  {
   "cell_type": "code",
   "execution_count": 17,
   "metadata": {
    "scrolled": true
   },
   "outputs": [
    {
     "data": {
      "text/plain": [
       "[<matplotlib.lines.Line2D at 0x226ea6edf88>]"
      ]
     },
     "execution_count": 17,
     "metadata": {},
     "output_type": "execute_result"
    },
    {
     "data": {
      "image/png": "[encoded data removed]",
      "text/plain": [
       "<Figure size 432x288 with 1 Axes>"
      ]
     },
     "metadata": {
      "needs_background": "light"
     },
     "output_type": "display_data"
    }
   ],
   "source": [
    "plt.plot(n_estimators ,mean_score)"
   ]
  },
  {
   "cell_type": "markdown",
   "metadata": {},
   "source": [
    "<h3>Ada Boost Classifier</h3>"
   ]
  },
  {
   "cell_type": "code",
   "execution_count": 18,
   "metadata": {},
   "outputs": [
    {
     "name": "stderr",
     "output_type": "stream",
     "text": [
      "[Parallel(n_jobs=-1)]: Using backend LokyBackend with 12 concurrent workers.\n",
      "[Parallel(n_jobs=-1)]: Done   5 out of   5 | elapsed:    2.7s finished\n",
      "[Parallel(n_jobs=-1)]: Using backend LokyBackend with 12 concurrent workers.\n",
      "[Parallel(n_jobs=-1)]: Done   5 out of   5 | elapsed:    2.8s finished\n",
      "[Parallel(n_jobs=-1)]: Using backend LokyBackend with 12 concurrent workers.\n",
      "[Parallel(n_jobs=-1)]: Done   5 out of   5 | elapsed:    3.1s finished\n",
      "[Parallel(n_jobs=-1)]: Using backend LokyBackend with 12 concurrent workers.\n",
      "[Parallel(n_jobs=-1)]: Done   5 out of   5 | elapsed:    3.3s finished\n",
      "[Parallel(n_jobs=-1)]: Using backend LokyBackend with 12 concurrent workers.\n",
      "[Parallel(n_jobs=-1)]: Done   5 out of   5 | elapsed:    3.9s finished\n",
      "[Parallel(n_jobs=-1)]: Using backend LokyBackend with 12 concurrent workers.\n",
      "[Parallel(n_jobs=-1)]: Done   5 out of   5 | elapsed:    5.1s finished\n",
      "[Parallel(n_jobs=-1)]: Using backend LokyBackend with 12 concurrent workers.\n",
      "[Parallel(n_jobs=-1)]: Done   5 out of   5 | elapsed:    8.0s finished\n",
      "[Parallel(n_jobs=-1)]: Using backend LokyBackend with 12 concurrent workers.\n",
      "[Parallel(n_jobs=-1)]: Done   5 out of   5 | elapsed:   14.0s finished\n",
      "[Parallel(n_jobs=-1)]: Using backend LokyBackend with 12 concurrent workers.\n",
      "[Parallel(n_jobs=-1)]: Done   5 out of   5 | elapsed:   19.4s finished\n",
      "[Parallel(n_jobs=-1)]: Using backend LokyBackend with 12 concurrent workers.\n",
      "[Parallel(n_jobs=-1)]: Done   5 out of   5 | elapsed:   25.5s finished\n",
      "[Parallel(n_jobs=-1)]: Using backend LokyBackend with 12 concurrent workers.\n",
      "[Parallel(n_jobs=-1)]: Done   5 out of   5 | elapsed:   45.9s finished\n"
     ]
    }
   ],
   "source": [
    "n_estimators = [5,10,15,20,30,50,100,200,300,400,750]\n",
    "mean_score = []\n",
    "for estim in n_estimators:\n",
    "    clf = AdaBoostClassifier(n_estimators=estim)\n",
    "    scores = cross_val_score(clf, X, y, cv=5, n_jobs = -1, verbose = 1)\n",
    "    mean_score.append(scores.mean())"
   ]
  },
  {
   "cell_type": "code",
   "execution_count": 19,
   "metadata": {
    "scrolled": false
   },
   "outputs": [
    {
     "data": {
      "text/plain": [
       "[<matplotlib.lines.Line2D at 0x226e869a208>]"
      ]
     },
     "execution_count": 19,
     "metadata": {},
     "output_type": "execute_result"
    },
    {
     "data": {
      "image/png": "[encoded data removed]",
      "text/plain": [
       "<Figure size 432x288 with 1 Axes>"
      ]
     },
     "metadata": {
      "needs_background": "light"
     },
     "output_type": "display_data"
    }
   ],
   "source": [
    "plt.plot(n_estimators ,mean_score)"
   ]
  },
  {
   "cell_type": "markdown",
   "metadata": {},
   "source": [
    "<h3>KNN Classifier</h3>"
   ]
  },
  {
   "cell_type": "code",
   "execution_count": 20,
   "metadata": {},
   "outputs": [
    {
     "name": "stderr",
     "output_type": "stream",
     "text": [
      "[Parallel(n_jobs=-1)]: Using backend LokyBackend with 12 concurrent workers.\n",
      "[Parallel(n_jobs=-1)]: Done   5 out of   5 | elapsed:    2.9s finished\n",
      "[Parallel(n_jobs=-1)]: Using backend LokyBackend with 12 concurrent workers.\n",
      "[Parallel(n_jobs=-1)]: Done   5 out of   5 | elapsed:    2.9s finished\n",
      "[Parallel(n_jobs=-1)]: Using backend LokyBackend with 12 concurrent workers.\n",
      "[Parallel(n_jobs=-1)]: Done   5 out of   5 | elapsed:    2.9s finished\n",
      "[Parallel(n_jobs=-1)]: Using backend LokyBackend with 12 concurrent workers.\n",
      "[Parallel(n_jobs=-1)]: Done   5 out of   5 | elapsed:    2.9s finished\n",
      "[Parallel(n_jobs=-1)]: Using backend LokyBackend with 12 concurrent workers.\n",
      "[Parallel(n_jobs=-1)]: Done   5 out of   5 | elapsed:    2.9s finished\n",
      "[Parallel(n_jobs=-1)]: Using backend LokyBackend with 12 concurrent workers.\n",
      "[Parallel(n_jobs=-1)]: Done   5 out of   5 | elapsed:    2.9s finished\n",
      "[Parallel(n_jobs=-1)]: Using backend LokyBackend with 12 concurrent workers.\n",
      "[Parallel(n_jobs=-1)]: Done   5 out of   5 | elapsed:    3.1s finished\n",
      "[Parallel(n_jobs=-1)]: Using backend LokyBackend with 12 concurrent workers.\n",
      "[Parallel(n_jobs=-1)]: Done   5 out of   5 | elapsed:    3.2s finished\n",
      "[Parallel(n_jobs=-1)]: Using backend LokyBackend with 12 concurrent workers.\n",
      "[Parallel(n_jobs=-1)]: Done   5 out of   5 | elapsed:    3.7s finished\n",
      "[Parallel(n_jobs=-1)]: Using backend LokyBackend with 12 concurrent workers.\n",
      "[Parallel(n_jobs=-1)]: Done   5 out of   5 | elapsed:    4.1s finished\n",
      "[Parallel(n_jobs=-1)]: Using backend LokyBackend with 12 concurrent workers.\n",
      "[Parallel(n_jobs=-1)]: Done   5 out of   5 | elapsed:    4.9s finished\n"
     ]
    }
   ],
   "source": [
    "n_estimators = [3,5,10,15,20,30,50,100, 200,300,500]\n",
    "mean_score = []\n",
    "for estim in n_estimators:\n",
    "    clf = KNeighborsClassifier(n_neighbors=estim)\n",
    "    scores = cross_val_score(clf, X, y, cv=5, n_jobs = -1, verbose = 1)\n",
    "    mean_score.append(scores.mean())"
   ]
  },
  {
   "cell_type": "code",
   "execution_count": 21,
   "metadata": {
    "scrolled": false
   },
   "outputs": [
    {
     "data": {
      "text/plain": [
       "[<matplotlib.lines.Line2D at 0x226ea7f0848>]"
      ]
     },
     "execution_count": 21,
     "metadata": {},
     "output_type": "execute_result"
    },
    {
     "data": {
      "image/png": "[encoded data removed]",
      "text/plain": [
       "<Figure size 432x288 with 1 Axes>"
      ]
     },
     "metadata": {
      "needs_background": "light"
     },
     "output_type": "display_data"
    }
   ],
   "source": [
    "plt.plot(n_estimators ,mean_score)"
   ]
  },
  {
   "cell_type": "markdown",
   "metadata": {},
   "source": [
    "<h3>Keras NN</h3>"
   ]
  },
  {
   "cell_type": "code",
   "execution_count": 22,
   "metadata": {},
   "outputs": [],
   "source": [
    "def get_model():\n",
    "    model = keras.Sequential([\n",
    "    keras.layers.Dense(64, input_dim = 16, activation='relu'),\n",
    "    keras.layers.Dense(32, activation='relu'),\n",
    "    keras.layers.Dropout(0.2),\n",
    "    keras.layers.Dense(16, activation='relu'),\n",
    "    keras.layers.Dropout(0.2),\n",
    "    keras.layers.Dense(3, activation='softmax')\n",
    "    ])\n",
    "    model.compile(optimizer='adam',\n",
    "                  loss=tf.keras.losses.BinaryCrossentropy(),\n",
    "              metrics=[tf.keras.metrics.BinaryAccuracy( threshold=0.6)])\n",
    "\n",
    "    return model"
   ]
  },
  {
   "cell_type": "code",
   "execution_count": 23,
   "metadata": {
    "scrolled": true
   },
   "outputs": [
    {
     "name": "stdout",
     "output_type": "stream",
     "text": [
      "Epoch 1/20\n",
      "2000/2000 [==============================] - 1s 687us/step - loss: 1.7198 - binary_accuracy: 0.8874\n",
      "Epoch 2/20\n",
      "2000/2000 [==============================] - 1s 676us/step - loss: 1.7025 - binary_accuracy: 0.8890\n",
      "Epoch 3/20\n",
      "2000/2000 [==============================] - 1s 668us/step - loss: 1.7028 - binary_accuracy: 0.8889\n",
      "Epoch 4/20\n",
      "2000/2000 [==============================] - 1s 671us/step - loss: 1.7012 - binary_accuracy: 0.8890\n",
      "Epoch 5/20\n",
      "2000/2000 [==============================] - 1s 690us/step - loss: 1.7013 - binary_accuracy: 0.8890\n",
      "Epoch 6/20\n",
      "2000/2000 [==============================] - 1s 667us/step - loss: 1.7015 - binary_accuracy: 0.8890\n",
      "Epoch 7/20\n",
      "2000/2000 [==============================] - 1s 669us/step - loss: 1.7014 - binary_accuracy: 0.8890\n",
      "Epoch 8/20\n",
      "2000/2000 [==============================] - 1s 677us/step - loss: 1.7006 - binary_accuracy: 0.8891\n",
      "Epoch 9/20\n",
      "2000/2000 [==============================] - 1s 673us/step - loss: 1.6999 - binary_accuracy: 0.8890\n",
      "Epoch 10/20\n",
      "2000/2000 [==============================] - 1s 672us/step - loss: 1.6988 - binary_accuracy: 0.8890\n",
      "Epoch 11/20\n",
      "2000/2000 [==============================] - 1s 706us/step - loss: 1.6989 - binary_accuracy: 0.8890\n",
      "Epoch 12/20\n",
      "2000/2000 [==============================] - 1s 680us/step - loss: 1.6994 - binary_accuracy: 0.8890\n",
      "Epoch 13/20\n",
      "2000/2000 [==============================] - 1s 673us/step - loss: 1.7000 - binary_accuracy: 0.8891\n",
      "Epoch 14/20\n",
      "2000/2000 [==============================] - 1s 670us/step - loss: 1.6997 - binary_accuracy: 0.8891\n",
      "Epoch 15/20\n",
      "2000/2000 [==============================] - 1s 672us/step - loss: 1.6998 - binary_accuracy: 0.8891\n",
      "Epoch 16/20\n",
      "2000/2000 [==============================] - 1s 676us/step - loss: 1.6994 - binary_accuracy: 0.8891\n",
      "Epoch 17/20\n",
      "2000/2000 [==============================] - 1s 677us/step - loss: 1.6933 - binary_accuracy: 0.8890\n",
      "Epoch 18/20\n",
      "2000/2000 [==============================] - 1s 672us/step - loss: 1.6468 - binary_accuracy: 0.8888\n",
      "Epoch 19/20\n",
      "2000/2000 [==============================] - 1s 684us/step - loss: 0.3508 - binary_accuracy: 0.8890\n",
      "Epoch 20/20\n",
      "2000/2000 [==============================] - 1s 698us/step - loss: 0.3258 - binary_accuracy: 0.8891\n",
      "Epoch 1/20\n",
      "2000/2000 [==============================] - 1s 698us/step - loss: 2.2701 - binary_accuracy: 0.8509\n",
      "Epoch 2/20\n",
      "2000/2000 [==============================] - 1s 691us/step - loss: 1.6964 - binary_accuracy: 0.8893\n",
      "Epoch 3/20\n",
      "2000/2000 [==============================] - 1s 689us/step - loss: 1.6957 - binary_accuracy: 0.8894\n",
      "Epoch 4/20\n",
      "2000/2000 [==============================] - 1s 702us/step - loss: 1.6956 - binary_accuracy: 0.8894\n",
      "Epoch 5/20\n",
      "2000/2000 [==============================] - 1s 692us/step - loss: 1.6951 - binary_accuracy: 0.8895\n",
      "Epoch 6/20\n",
      "2000/2000 [==============================] - 1s 693us/step - loss: 1.6952 - binary_accuracy: 0.8895\n",
      "Epoch 7/20\n",
      "2000/2000 [==============================] - 1s 679us/step - loss: 1.6950 - binary_accuracy: 0.8895\n",
      "Epoch 8/20\n",
      "2000/2000 [==============================] - 1s 670us/step - loss: 1.6951 - binary_accuracy: 0.8895\n",
      "Epoch 9/20\n",
      "2000/2000 [==============================] - 1s 659us/step - loss: 1.6951 - binary_accuracy: 0.8895\n",
      "Epoch 10/20\n",
      "2000/2000 [==============================] - 1s 681us/step - loss: 1.6951 - binary_accuracy: 0.8895\n",
      "Epoch 11/20\n",
      "2000/2000 [==============================] - 1s 677us/step - loss: 1.6951 - binary_accuracy: 0.8895\n",
      "Epoch 12/20\n",
      "2000/2000 [==============================] - 2s 753us/step - loss: 1.6951 - binary_accuracy: 0.8895\n",
      "Epoch 13/20\n",
      "2000/2000 [==============================] - 1s 703us/step - loss: 1.6953 - binary_accuracy: 0.8894\n",
      "Epoch 14/20\n",
      "2000/2000 [==============================] - 1s 693us/step - loss: 1.6952 - binary_accuracy: 0.8895\n",
      "Epoch 15/20\n",
      "2000/2000 [==============================] - 1s 686us/step - loss: 1.6952 - binary_accuracy: 0.8895\n",
      "Epoch 16/20\n",
      "2000/2000 [==============================] - 1s 693us/step - loss: 1.6949 - binary_accuracy: 0.8895\n",
      "Epoch 17/20\n",
      "2000/2000 [==============================] - 1s 705us/step - loss: 1.6951 - binary_accuracy: 0.8895\n",
      "Epoch 18/20\n",
      "2000/2000 [==============================] - 1s 689us/step - loss: 1.6951 - binary_accuracy: 0.8895\n",
      "Epoch 19/20\n",
      "2000/2000 [==============================] - 1s 660us/step - loss: 1.6951 - binary_accuracy: 0.8895\n",
      "Epoch 20/20\n",
      "2000/2000 [==============================] - 1s 679us/step - loss: 1.6950 - binary_accuracy: 0.8895\n",
      "Epoch 1/20\n",
      "2000/2000 [==============================] - 1s 680us/step - loss: 1.7131 - binary_accuracy: 0.8880\n",
      "Epoch 2/20\n",
      "2000/2000 [==============================] - 1s 679us/step - loss: 1.6949 - binary_accuracy: 0.8895\n",
      "Epoch 3/20\n",
      "2000/2000 [==============================] - 1s 680us/step - loss: 1.6946 - binary_accuracy: 0.8895\n",
      "Epoch 4/20\n",
      "2000/2000 [==============================] - 1s 675us/step - loss: 1.6943 - binary_accuracy: 0.8895\n",
      "Epoch 5/20\n",
      "2000/2000 [==============================] - 1s 674us/step - loss: 1.6944 - binary_accuracy: 0.8895\n",
      "Epoch 6/20\n",
      "2000/2000 [==============================] - 1s 671us/step - loss: 1.6943 - binary_accuracy: 0.8895\n",
      "Epoch 7/20\n",
      "2000/2000 [==============================] - 1s 661us/step - loss: 1.6943 - binary_accuracy: 0.8895\n",
      "Epoch 8/20\n",
      "2000/2000 [==============================] - 1s 662us/step - loss: 1.6944 - binary_accuracy: 0.8895\n",
      "Epoch 9/20\n",
      "2000/2000 [==============================] - 1s 664us/step - loss: 1.6943 - binary_accuracy: 0.8895\n",
      "Epoch 10/20\n",
      "2000/2000 [==============================] - 1s 681us/step - loss: 1.6943 - binary_accuracy: 0.8895\n",
      "Epoch 11/20\n",
      "2000/2000 [==============================] - 1s 666us/step - loss: 1.6948 - binary_accuracy: 0.8895\n",
      "Epoch 12/20\n",
      "2000/2000 [==============================] - 1s 662us/step - loss: 1.6945 - binary_accuracy: 0.8895\n",
      "Epoch 13/20\n",
      "2000/2000 [==============================] - 1s 663us/step - loss: 1.6944 - binary_accuracy: 0.8895\n",
      "Epoch 14/20\n",
      "2000/2000 [==============================] - 1s 659us/step - loss: 1.6943 - binary_accuracy: 0.8895\n",
      "Epoch 15/20\n",
      "2000/2000 [==============================] - 1s 666us/step - loss: 1.6946 - binary_accuracy: 0.8895\n",
      "Epoch 16/20\n",
      "2000/2000 [==============================] - 1s 665us/step - loss: 1.6946 - binary_accuracy: 0.8895\n",
      "Epoch 17/20\n",
      "2000/2000 [==============================] - 1s 664us/step - loss: 1.6944 - binary_accuracy: 0.8895\n",
      "Epoch 18/20\n",
      "2000/2000 [==============================] - 1s 663us/step - loss: 1.6942 - binary_accuracy: 0.8895\n",
      "Epoch 19/20\n",
      "2000/2000 [==============================] - 1s 661us/step - loss: 1.6945 - binary_accuracy: 0.8895\n",
      "Epoch 20/20\n",
      "2000/2000 [==============================] - 1s 665us/step - loss: 1.6944 - binary_accuracy: 0.8895\n",
      "Epoch 1/20\n",
      "2000/2000 [==============================] - 1s 682us/step - loss: 1.7401 - binary_accuracy: 0.8856\n",
      "Epoch 2/20\n",
      "2000/2000 [==============================] - 1s 677us/step - loss: 1.7045 - binary_accuracy: 0.8888\n",
      "Epoch 3/20\n",
      "2000/2000 [==============================] - 1s 678us/step - loss: 1.7050 - binary_accuracy: 0.8888\n",
      "Epoch 4/20\n",
      "2000/2000 [==============================] - 1s 678us/step - loss: 1.7039 - binary_accuracy: 0.8889\n",
      "Epoch 5/20\n",
      "2000/2000 [==============================] - 1s 683us/step - loss: 1.7039 - binary_accuracy: 0.8889\n",
      "Epoch 6/20\n",
      "2000/2000 [==============================] - 1s 684us/step - loss: 1.7039 - binary_accuracy: 0.8889\n",
      "Epoch 7/20\n",
      "2000/2000 [==============================] - 1s 684us/step - loss: 1.7040 - binary_accuracy: 0.8889\n",
      "Epoch 8/20\n",
      "2000/2000 [==============================] - 1s 694us/step - loss: 1.7037 - binary_accuracy: 0.8889\n",
      "Epoch 9/20\n",
      "2000/2000 [==============================] - 1s 687us/step - loss: 1.7039 - binary_accuracy: 0.8889\n",
      "Epoch 10/20\n",
      "2000/2000 [==============================] - 1s 682us/step - loss: 1.7039 - binary_accuracy: 0.8889\n",
      "Epoch 11/20\n",
      "2000/2000 [==============================] - 1s 678us/step - loss: 1.7035 - binary_accuracy: 0.8889\n",
      "Epoch 12/20\n",
      "2000/2000 [==============================] - 1s 680us/step - loss: 1.7039 - binary_accuracy: 0.8889\n",
      "Epoch 13/20\n",
      "2000/2000 [==============================] - 1s 675us/step - loss: 1.7037 - binary_accuracy: 0.8889\n",
      "Epoch 14/20\n"
     ]
    },
    {
     "name": "stdout",
     "output_type": "stream",
     "text": [
      "2000/2000 [==============================] - 1s 684us/step - loss: 1.7040 - binary_accuracy: 0.8889\n",
      "Epoch 15/20\n",
      "2000/2000 [==============================] - 1s 693us/step - loss: 1.7041 - binary_accuracy: 0.8889\n",
      "Epoch 16/20\n",
      "2000/2000 [==============================] - 1s 684us/step - loss: 1.7038 - binary_accuracy: 0.8889\n",
      "Epoch 17/20\n",
      "2000/2000 [==============================] - 1s 692us/step - loss: 1.7034 - binary_accuracy: 0.8889\n",
      "Epoch 18/20\n",
      "2000/2000 [==============================] - 1s 685us/step - loss: 1.7033 - binary_accuracy: 0.8889\n",
      "Epoch 19/20\n",
      "2000/2000 [==============================] - 1s 682us/step - loss: 1.7037 - binary_accuracy: 0.8889\n",
      "Epoch 20/20\n",
      "2000/2000 [==============================] - 1s 690us/step - loss: 1.7036 - binary_accuracy: 0.8889\n",
      "Epoch 1/20\n",
      "2000/2000 [==============================] - 1s 672us/step - loss: 1.6460 - binary_accuracy: 0.8788\n",
      "Epoch 2/20\n",
      "2000/2000 [==============================] - 1s 680us/step - loss: 1.3739 - binary_accuracy: 0.8884\n",
      "Epoch 3/20\n",
      "2000/2000 [==============================] - 1s 662us/step - loss: 0.3475 - binary_accuracy: 0.8886\n",
      "Epoch 4/20\n",
      "2000/2000 [==============================] - 1s 660us/step - loss: 0.3258 - binary_accuracy: 0.8894\n",
      "Epoch 5/20\n",
      "2000/2000 [==============================] - 1s 674us/step - loss: 0.3256 - binary_accuracy: 0.8894\n",
      "Epoch 6/20\n",
      "2000/2000 [==============================] - 1s 671us/step - loss: 0.3252 - binary_accuracy: 0.8895\n",
      "Epoch 7/20\n",
      "2000/2000 [==============================] - 1s 666us/step - loss: 0.3258 - binary_accuracy: 0.8895\n",
      "Epoch 8/20\n",
      "2000/2000 [==============================] - 1s 659us/step - loss: 0.3265 - binary_accuracy: 0.8894\n",
      "Epoch 9/20\n",
      "2000/2000 [==============================] - 1s 678us/step - loss: 0.3250 - binary_accuracy: 0.8895\n",
      "Epoch 10/20\n",
      "2000/2000 [==============================] - 1s 678us/step - loss: 0.3255 - binary_accuracy: 0.8895\n",
      "Epoch 11/20\n",
      "2000/2000 [==============================] - 1s 671us/step - loss: 0.3252 - binary_accuracy: 0.8895\n",
      "Epoch 12/20\n",
      "2000/2000 [==============================] - 1s 682us/step - loss: 0.3252 - binary_accuracy: 0.8895\n",
      "Epoch 13/20\n",
      "2000/2000 [==============================] - 1s 665us/step - loss: 0.3251 - binary_accuracy: 0.8895\n",
      "Epoch 14/20\n",
      "2000/2000 [==============================] - 1s 688us/step - loss: 0.3255 - binary_accuracy: 0.8895\n",
      "Epoch 15/20\n",
      "2000/2000 [==============================] - 1s 673us/step - loss: 0.3251 - binary_accuracy: 0.8895\n",
      "Epoch 16/20\n",
      "2000/2000 [==============================] - 1s 672us/step - loss: 0.3254 - binary_accuracy: 0.8895\n",
      "Epoch 17/20\n",
      "2000/2000 [==============================] - 1s 673us/step - loss: 0.3255 - binary_accuracy: 0.8895\n",
      "Epoch 18/20\n",
      "2000/2000 [==============================] - 1s 692us/step - loss: 0.3250 - binary_accuracy: 0.8895\n",
      "Epoch 19/20\n",
      "2000/2000 [==============================] - 1s 672us/step - loss: 0.3256 - binary_accuracy: 0.8895\n",
      "Epoch 20/20\n",
      "2000/2000 [==============================] - 1s 673us/step - loss: 0.3254 - binary_accuracy: 0.8895\n"
     ]
    }
   ],
   "source": [
    "from sklearn.model_selection import KFold\n",
    "from sklearn.metrics import accuracy_score\n",
    "y_nn = pd.get_dummies(y).values\n",
    "X_nn = X.values\n",
    "mean_score = []\n",
    "for train_index,test_index in KFold(5,shuffle=True, random_state = 42).split(X_nn):\n",
    "    x_train,x_test=X_nn[train_index],X_nn[test_index]\n",
    "    y_train,y_test=y_nn[train_index],y_nn[test_index]\n",
    "    dano0_test = y_test[:,0]\n",
    "    dano1_test = y_test[:,1]\n",
    "    dano2_test = y_test[:,2]\n",
    "    model = get_model()\n",
    "    model.fit(x_train, y_train, epochs=20)\n",
    "    y_pred = model.predict(x_test)\n",
    "    dano0_pred = [int(x > 0.6) for x in y_pred[:,0]]\n",
    "    dano1_pred = [int(x > 0.6) for x in y_pred[:,1]]\n",
    "    dano2_pred = [int(x > 0.6) for x in y_pred[:,2]]\n",
    "    mean_score.append((accuracy_score(dano0_test, dano0_pred) + accuracy_score(dano1_test, dano1_pred) + accuracy_score(dano2_test, dano2_pred))/3)"
   ]
  },
  {
   "cell_type": "code",
   "execution_count": 24,
   "metadata": {},
   "outputs": [
    {
     "data": {
      "text/plain": [
       "[0.89025, 0.8885833333333334, 0.888375, 0.8908333333333333, 0.8884583333333333]"
      ]
     },
     "execution_count": 24,
     "metadata": {},
     "output_type": "execute_result"
    }
   ],
   "source": [
    "mean_score"
   ]
  },
  {
   "cell_type": "markdown",
   "metadata": {},
   "source": [
    "<h3>A rede neural perfomou bem melhor que os outros metodos</h3>"
   ]
  },
  {
   "cell_type": "code",
   "execution_count": 25,
   "metadata": {},
   "outputs": [
    {
     "name": "stdout",
     "output_type": "stream",
     "text": [
      "Epoch 1/20\n",
      "2500/2500 [==============================] - 2s 663us/step - loss: 1.0480 - binary_accuracy: 0.8817\n",
      "Epoch 2/20\n",
      "2500/2500 [==============================] - 2s 667us/step - loss: 0.3415 - binary_accuracy: 0.8886\n",
      "Epoch 3/20\n",
      "2500/2500 [==============================] - 2s 679us/step - loss: 0.3185 - binary_accuracy: 0.8889\n",
      "Epoch 4/20\n",
      "2500/2500 [==============================] - 2s 680us/step - loss: 0.3116 - binary_accuracy: 0.8877\n",
      "Epoch 5/20\n",
      "2500/2500 [==============================] - 2s 690us/step - loss: 0.3103 - binary_accuracy: 0.8882\n",
      "Epoch 6/20\n",
      "2500/2500 [==============================] - 2s 678us/step - loss: 0.3082 - binary_accuracy: 0.8883\n",
      "Epoch 7/20\n",
      "2500/2500 [==============================] - 2s 670us/step - loss: 0.3076 - binary_accuracy: 0.8884 1s - loss: \n",
      "Epoch 8/20\n",
      "2500/2500 [==============================] - 2s 680us/step - loss: 0.3058 - binary_accuracy: 0.8888\n",
      "Epoch 9/20\n",
      "2500/2500 [==============================] - 2s 675us/step - loss: 0.3061 - binary_accuracy: 0.8890\n",
      "Epoch 10/20\n",
      "2500/2500 [==============================] - 2s 675us/step - loss: 0.3045 - binary_accuracy: 0.8895\n",
      "Epoch 11/20\n",
      "2500/2500 [==============================] - 2s 673us/step - loss: 0.3023 - binary_accuracy: 0.8897\n",
      "Epoch 12/20\n",
      "2500/2500 [==============================] - 2s 676us/step - loss: 0.2977 - binary_accuracy: 0.8898\n",
      "Epoch 13/20\n",
      "2500/2500 [==============================] - 2s 676us/step - loss: 0.2953 - binary_accuracy: 0.8902\n",
      "Epoch 14/20\n",
      "2500/2500 [==============================] - 2s 666us/step - loss: 0.2939 - binary_accuracy: 0.8902\n",
      "Epoch 15/20\n",
      "2500/2500 [==============================] - 2s 661us/step - loss: 0.2930 - binary_accuracy: 0.8902\n",
      "Epoch 16/20\n",
      "2500/2500 [==============================] - 2s 660us/step - loss: 0.2929 - binary_accuracy: 0.8905\n",
      "Epoch 17/20\n",
      "2500/2500 [==============================] - 2s 670us/step - loss: 0.2912 - binary_accuracy: 0.8907\n",
      "Epoch 18/20\n",
      "2500/2500 [==============================] - 2s 678us/step - loss: 0.2913 - binary_accuracy: 0.8909\n",
      "Epoch 19/20\n",
      "2500/2500 [==============================] - 2s 665us/step - loss: 0.2903 - binary_accuracy: 0.8905\n",
      "Epoch 20/20\n",
      "2500/2500 [==============================] - 2s 677us/step - loss: 0.2876 - binary_accuracy: 0.8910\n"
     ]
    },
    {
     "data": {
      "text/plain": [
       "<tensorflow.python.keras.callbacks.History at 0x226f49f4388>"
      ]
     },
     "execution_count": 25,
     "metadata": {},
     "output_type": "execute_result"
    }
   ],
   "source": [
    "model = get_model()\n",
    "model.fit(X_nn, y_nn, epochs=20)"
   ]
  },
  {
   "cell_type": "code",
   "execution_count": 65,
   "metadata": {},
   "outputs": [],
   "source": [
    "def predict(df, model):\n",
    "    X = df2020.drop(['Identificador_Agricultor'], axis=1).values\n",
    "    y = model.predict(X)\n",
    "    s =  np.zeros(len(y))\n",
    "    for index in range(len(y)):\n",
    "        if y[index][1] > y[index][2] and y[index][1] > y[index][0]:\n",
    "            s[index] = 1\n",
    "        elif y[index][2] > y[index][1] and y[index][2] > y[index][0]:\n",
    "            s[index] = 2\n",
    "    return s"
   ]
  },
  {
   "cell_type": "markdown",
   "metadata": {},
   "source": [
    "<h2>Prevendo para casos em 2020</h2>"
   ]
  },
  {
   "cell_type": "code",
   "execution_count": 26,
   "metadata": {},
   "outputs": [],
   "source": [
    "df2020 = pd.read_csv('Safra_2020.csv').drop(['Unnamed: 0'], axis = 1)"
   ]
  },
  {
   "cell_type": "code",
   "execution_count": 32,
   "metadata": {},
   "outputs": [
    {
     "name": "stdout",
     "output_type": "stream",
     "text": [
      "<class 'pandas.core.frame.DataFrame'>\n",
      "RangeIndex: 8858 entries, 0 to 8857\n",
      "Data columns (total 17 columns):\n",
      "Identificador_Agricultor           8858 non-null object\n",
      "Estimativa_de_Insetos              8858 non-null int64\n",
      "Tipo_de_Cultivo                    8858 non-null int64\n",
      "Tipo_de_Solo                       8858 non-null int64\n",
      "Doses_Semana                       8858 non-null int64\n",
      "Semanas_Utilizando                 8858 non-null int32\n",
      "Semanas_Sem_Uso                    8858 non-null int64\n",
      "Categoria_Pesticida_Esta usando    8858 non-null uint8\n",
      "Categoria_Pesticida_Já Usou        8858 non-null uint8\n",
      "Categoria_Pesticida_Nunca Usou     8858 non-null uint8\n",
      "Temporada_1                        8858 non-null uint8\n",
      "Temporada_2                        8858 non-null uint8\n",
      "Temporada_3                        8858 non-null uint8\n",
      "Quant_total_de_Dose                8858 non-null int64\n",
      "Total_de_Semanas                   8858 non-null int64\n",
      "Razao_Uso                          8858 non-null float64\n",
      "Razao_de_inseto_por_dose           8858 non-null float64\n",
      "dtypes: float64(2), int32(1), int64(7), object(1), uint8(6)\n",
      "memory usage: 778.7+ KB\n"
     ]
    }
   ],
   "source": [
    "df2020.info()"
   ]
  },
  {
   "cell_type": "code",
   "execution_count": 28,
   "metadata": {},
   "outputs": [],
   "source": [
    "df2020 = fill_nan_values(df2020)"
   ]
  },
  {
   "cell_type": "code",
   "execution_count": 29,
   "metadata": {},
   "outputs": [],
   "source": [
    "df2020 = dummies(df2020)"
   ]
  },
  {
   "cell_type": "code",
   "execution_count": 30,
   "metadata": {},
   "outputs": [],
   "source": [
    "df2020 = feature_engineering(df2020)"
   ]
  },
  {
   "cell_type": "markdown",
   "metadata": {},
   "source": [
    "<h3>Essa é o dataframe dos agricultores em 2020</h3>"
   ]
  },
  {
   "cell_type": "code",
   "execution_count": 80,
   "metadata": {},
   "outputs": [],
   "source": [
    "dfpredict = pd.DataFrame(predict(df2020, model), columns = ['dano_previsto'])"
   ]
  },
  {
   "cell_type": "code",
   "execution_count": 81,
   "metadata": {},
   "outputs": [
    {
     "data": {
      "text/html": [
       "<div>\n",
       "<style scoped>\n",
       "    .dataframe tbody tr th:only-of-type {\n",
       "        vertical-align: middle;\n",
       "    }\n",
       "\n",
       "    .dataframe tbody tr th {\n",
       "        vertical-align: top;\n",
       "    }\n",
       "\n",
       "    .dataframe thead th {\n",
       "        text-align: right;\n",
       "    }\n",
       "</style>\n",
       "<table border=\"1\" class=\"dataframe\">\n",
       "  <thead>\n",
       "    <tr style=\"text-align: right;\">\n",
       "      <th></th>\n",
       "      <th>dano_previsto</th>\n",
       "    </tr>\n",
       "  </thead>\n",
       "  <tbody>\n",
       "    <tr>\n",
       "      <th>0</th>\n",
       "      <td>0.0</td>\n",
       "    </tr>\n",
       "    <tr>\n",
       "      <th>1</th>\n",
       "      <td>0.0</td>\n",
       "    </tr>\n",
       "    <tr>\n",
       "      <th>2</th>\n",
       "      <td>0.0</td>\n",
       "    </tr>\n",
       "    <tr>\n",
       "      <th>3</th>\n",
       "      <td>0.0</td>\n",
       "    </tr>\n",
       "    <tr>\n",
       "      <th>4</th>\n",
       "      <td>0.0</td>\n",
       "    </tr>\n",
       "    <tr>\n",
       "      <th>...</th>\n",
       "      <td>...</td>\n",
       "    </tr>\n",
       "    <tr>\n",
       "      <th>8853</th>\n",
       "      <td>0.0</td>\n",
       "    </tr>\n",
       "    <tr>\n",
       "      <th>8854</th>\n",
       "      <td>0.0</td>\n",
       "    </tr>\n",
       "    <tr>\n",
       "      <th>8855</th>\n",
       "      <td>0.0</td>\n",
       "    </tr>\n",
       "    <tr>\n",
       "      <th>8856</th>\n",
       "      <td>0.0</td>\n",
       "    </tr>\n",
       "    <tr>\n",
       "      <th>8857</th>\n",
       "      <td>0.0</td>\n",
       "    </tr>\n",
       "  </tbody>\n",
       "</table>\n",
       "<p>8858 rows × 1 columns</p>\n",
       "</div>"
      ],
      "text/plain": [
       "      dano_previsto\n",
       "0               0.0\n",
       "1               0.0\n",
       "2               0.0\n",
       "3               0.0\n",
       "4               0.0\n",
       "...             ...\n",
       "8853            0.0\n",
       "8854            0.0\n",
       "8855            0.0\n",
       "8856            0.0\n",
       "8857            0.0\n",
       "\n",
       "[8858 rows x 1 columns]"
      ]
     },
     "execution_count": 81,
     "metadata": {},
     "output_type": "execute_result"
    }
   ],
   "source": [
    "dfpredict"
   ]
  },
  {
   "cell_type": "code",
   "execution_count": 83,
   "metadata": {},
   "outputs": [
    {
     "data": {
      "text/plain": [
       "array([0., 0., 0., ..., 0., 0., 0.])"
      ]
     },
     "execution_count": 83,
     "metadata": {},
     "output_type": "execute_result"
    }
   ],
   "source": [
    "predict(df2020, model)"
   ]
  },
  {
   "cell_type": "code",
   "execution_count": null,
   "metadata": {},
   "outputs": [],
   "source": []
  }
 ],
 "metadata": {
  "kernelspec": {
   "display_name": "Python 3",
   "language": "python",
   "name": "python3"
  },
  "language_info": {
   "codemirror_mode": {
    "name": "ipython",
    "version": 3
   },
   "file_extension": ".py",
   "mimetype": "text/x-python",
   "name": "python",
   "nbconvert_exporter": "python",
   "pygments_lexer": "ipython3",
   "version": "3.7.5"
  }
 },
 "nbformat": 4,
 "nbformat_minor": 2
}
